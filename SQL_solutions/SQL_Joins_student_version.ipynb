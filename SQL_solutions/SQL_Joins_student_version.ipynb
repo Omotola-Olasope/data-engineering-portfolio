{
 "cells": [
  {
   "cell_type": "markdown",
   "metadata": {},
   "source": [
    "# SQL Joins: TMDb Database\n",
    "© Explore Data Science Academy"
   ]
  },
  {
   "cell_type": "markdown",
   "metadata": {},
   "source": [
    "## Instructions to Students\n",
    "\n",
    "This challenge is designed to determine how much you have learned so far and will test your knowledge on join SQL statements.\n",
    "\n",
    "The answers for this challenge should be selected on Athena for each corresponding Multiple Choice Question. The questions are included in this notebook and are numbered according to the Athena Questions, the options to choose from for each question have also been included.\n",
    "\n",
    "Do not add or remove cells in this notebook. Do not edit or remove the `%%sql` comment as it is required to run each cell.\n",
    "\n",
    "**_Good Luck!_**"
   ]
  },
  {
   "cell_type": "markdown",
   "metadata": {},
   "source": [
    "## Honour Code\n",
    "\n",
    "I Omotola, Olasope, confirm - by submitting this document - that the solutions in this notebook are a result of my own work and that I abide by the EDSA honour code (https://drive.google.com/file/d/1QDCjGZJ8-FmJE3bZdIQNwnJyQKPhHZBn/view?usp=sharing).\n",
    "\n",
    "Non-compliance with the honour code constitutes a material breach of contract."
   ]
  },
  {
   "cell_type": "markdown",
   "metadata": {},
   "source": [
    "## The TMDb Database\n",
    "\n",
    "In this challenge you will be exploring the [The Movie Database](https://www.themoviedb.org/) - an online movie and TV show database, which houses some of the most popular movies and TV shows at your finger tips. The TMDb database supports 39 official languages used in over 180 countries daily and dates all the way back to 2008. \n",
    "\n",
    "\n",
    "<img src=\"https://github.com/Explore-AI/Pictures/blob/master/sql_tmdb.jpg?raw=true\" width=80%/>\n",
    "\n",
    "\n",
    "Below is an Entity Relationship diagram(ERD) of the TMDb database:\n",
    "\n",
    "<img src=\"https://github.com/Explore-AI/Pictures/blob/master/TMDB_ER_diagram.png?raw=true\" width=70%/>\n",
    "\n",
    "As can be seen from the ER diagram, the TMDb database consists of `12 tables` containing information about movies, cast, genre and so much more.  \n",
    "\n",
    "Let's get started!"
   ]
  },
  {
   "cell_type": "markdown",
   "metadata": {},
   "source": [
    "## Loading the database\n",
    "\n",
    "To begin and start making use of SQL queries you need to prepare your SQL environment you can do this by loading in the magic command `%load_ext sql`, next you can go ahead and load in your database. To do this you will need to ensure you have downloaded the `TMDB.db`sqlite file from Athena and have stored it in a known location. Now that you have all the prerequisites you can go ahead and load it into the notebook. "
   ]
  },
  {
   "cell_type": "code",
   "execution_count": 1,
   "metadata": {},
   "outputs": [],
   "source": [
    "%load_ext sql"
   ]
  },
  {
   "cell_type": "code",
   "execution_count": 2,
   "metadata": {},
   "outputs": [],
   "source": [
    "%%sql \n",
    "\n",
    "sqlite:///TMDB.db"
   ]
  },
  {
   "cell_type": "markdown",
   "metadata": {},
   "source": [
    "## Questions on SQL Join Statements \n",
    "\n",
    "Use the given cell below each question to execute your SQL queries to find the correct input from the options provided for the multiple choice questions on Athena."
   ]
  },
  {
   "cell_type": "markdown",
   "metadata": {},
   "source": [
    "**Question 1**\n",
    "\n",
    "What is the primary key for the table “movies”?\n",
    "\n",
    "**Options:** \n",
    " - title\n",
    " - movie_key\n",
    " - film_id\n",
    " - movie_id"
   ]
  },
  {
   "cell_type": "markdown",
   "metadata": {},
   "source": [
    "**Solution**"
   ]
  },
  {
   "cell_type": "code",
   "execution_count": 8,
   "metadata": {},
   "outputs": [
    {
     "name": "stdout",
     "output_type": "stream",
     "text": [
      " * sqlite:///TMDB.db\n",
      "Done.\n"
     ]
    },
    {
     "data": {
      "text/html": [
       "<table>\n",
       "    <thead>\n",
       "        <tr>\n",
       "            <th>primary_key_count</th>\n",
       "        </tr>\n",
       "    </thead>\n",
       "    <tbody>\n",
       "        <tr>\n",
       "            <td>1</td>\n",
       "        </tr>\n",
       "    </tbody>\n",
       "</table>"
      ],
      "text/plain": [
       "[(1,)]"
      ]
     },
     "execution_count": 8,
     "metadata": {},
     "output_type": "execute_result"
    }
   ],
   "source": [
    "%%sql \n",
    "SELECT count(*) as primary_key_count\n",
    "FROM pragma_table_info('movies')\n",
    "WHERE pk > 0;\n"
   ]
  },
  {
   "cell_type": "markdown",
   "metadata": {},
   "source": [
    "**Question 2**\n",
    "\n",
    "How many foreign keys does the “LanguageMap” table have?\n",
    "\n",
    "**Options:**\n",
    "\n",
    " - 0\n",
    " - 2\n",
    " - 3\n",
    " - 1"
   ]
  },
  {
   "cell_type": "markdown",
   "metadata": {},
   "source": [
    "**Solution**"
   ]
  },
  {
   "cell_type": "code",
   "execution_count": 13,
   "metadata": {},
   "outputs": [
    {
     "name": "stdout",
     "output_type": "stream",
     "text": [
      " * sqlite:///TMDB.db\n",
      "Done.\n"
     ]
    },
    {
     "data": {
      "text/html": [
       "<table>\n",
       "    <thead>\n",
       "        <tr>\n",
       "            <th>movie_id</th>\n",
       "            <th>iso_639_1</th>\n",
       "        </tr>\n",
       "    </thead>\n",
       "    <tbody>\n",
       "        <tr>\n",
       "            <td>868</td>\n",
       "            <td>af</td>\n",
       "        </tr>\n",
       "    </tbody>\n",
       "</table>"
      ],
      "text/plain": [
       "[(868, 'af')]"
      ]
     },
     "execution_count": 13,
     "metadata": {},
     "output_type": "execute_result"
    }
   ],
   "source": [
    "%%sql \n",
    "SELECT *\n",
    "FROM LanguageMap\n",
    "LIMIT 1;\n"
   ]
  },
  {
   "cell_type": "markdown",
   "metadata": {},
   "source": [
    "**Question 3**\n",
    "\n",
    "How many movies in the database were produced by Pixar Animation Studios?\n",
    "\n",
    "**Options:**\n",
    " - 16\n",
    " - 14\n",
    " - 18\n",
    " - 20"
   ]
  },
  {
   "cell_type": "markdown",
   "metadata": {},
   "source": [
    "**Solution**"
   ]
  },
  {
   "cell_type": "code",
   "execution_count": 9,
   "metadata": {},
   "outputs": [
    {
     "name": "stdout",
     "output_type": "stream",
     "text": [
      " * sqlite:///TMDB.db\n",
      "Done.\n"
     ]
    },
    {
     "data": {
      "text/html": [
       "<table>\n",
       "    <thead>\n",
       "        <tr>\n",
       "            <th>count_movies</th>\n",
       "        </tr>\n",
       "    </thead>\n",
       "    <tbody>\n",
       "        <tr>\n",
       "            <td>16</td>\n",
       "        </tr>\n",
       "    </tbody>\n",
       "</table>"
      ],
      "text/plain": [
       "[(16,)]"
      ]
     },
     "execution_count": 9,
     "metadata": {},
     "output_type": "execute_result"
    }
   ],
   "source": [
    "%%sql \n",
    "SELECT COUNT(m.movie_id) AS count_movies\n",
    "FROM movies m\n",
    "INNER JOIN productioncompanymap p1\n",
    "ON m.movie_id = p1.movie_id\n",
    "INNER JOIN productioncompanies p2\n",
    "ON p1.production_company_id = p2.production_company_id\n",
    "WHERE production_company_name = 'Pixar Animation Studios'\n"
   ]
  },
  {
   "cell_type": "markdown",
   "metadata": {},
   "source": [
    "**Question 4**\n",
    "\n",
    "What is the most popular action movie that has some German in it? (Hint: The German word for German is Deutsch)\n",
    "\n",
    "**Options:**\n",
    " - The Bourne Identity\n",
    " - Mission: Impossible - Rogue Nation\n",
    " - Captain America: Civil War\n",
    " - Quantum of Solace"
   ]
  },
  {
   "cell_type": "markdown",
   "metadata": {},
   "source": [
    "**Solution**"
   ]
  },
  {
   "cell_type": "code",
   "execution_count": 22,
   "metadata": {},
   "outputs": [
    {
     "name": "stdout",
     "output_type": "stream",
     "text": [
      " * sqlite:///TMDB.db\n",
      "Done.\n"
     ]
    },
    {
     "data": {
      "text/html": [
       "<table>\n",
       "    <thead>\n",
       "        <tr>\n",
       "            <th>title</th>\n",
       "            <th>genre_name</th>\n",
       "            <th>language_name</th>\n",
       "            <th>popularity</th>\n",
       "        </tr>\n",
       "    </thead>\n",
       "    <tbody>\n",
       "        <tr>\n",
       "            <td>Captain America: Civil War</td>\n",
       "            <td>Action</td>\n",
       "            <td>Deutsch</td>\n",
       "            <td>198.372395</td>\n",
       "        </tr>\n",
       "        <tr>\n",
       "            <td>Mission: Impossible - Rogue Nation</td>\n",
       "            <td>Action</td>\n",
       "            <td>Deutsch</td>\n",
       "            <td>114.522237</td>\n",
       "        </tr>\n",
       "        <tr>\n",
       "            <td>The Fifth Element</td>\n",
       "            <td>Action</td>\n",
       "            <td>Deutsch</td>\n",
       "            <td>109.528572</td>\n",
       "        </tr>\n",
       "        <tr>\n",
       "            <td>Quantum of Solace</td>\n",
       "            <td>Action</td>\n",
       "            <td>Deutsch</td>\n",
       "            <td>107.928811</td>\n",
       "        </tr>\n",
       "        <tr>\n",
       "            <td>Spectre</td>\n",
       "            <td>Action</td>\n",
       "            <td>Deutsch</td>\n",
       "            <td>107.376788</td>\n",
       "        </tr>\n",
       "        <tr>\n",
       "            <td>The Bourne Identity</td>\n",
       "            <td>Action</td>\n",
       "            <td>Deutsch</td>\n",
       "            <td>86.476817</td>\n",
       "        </tr>\n",
       "        <tr>\n",
       "            <td>Non-Stop</td>\n",
       "            <td>Action</td>\n",
       "            <td>Deutsch</td>\n",
       "            <td>83.295796</td>\n",
       "        </tr>\n",
       "        <tr>\n",
       "            <td>Indiana Jones and the Last Crusade</td>\n",
       "            <td>Action</td>\n",
       "            <td>Deutsch</td>\n",
       "            <td>80.972475</td>\n",
       "        </tr>\n",
       "        <tr>\n",
       "            <td>Indiana Jones and the Kingdom of the Crystal Skull</td>\n",
       "            <td>Action</td>\n",
       "            <td>Deutsch</td>\n",
       "            <td>75.674458</td>\n",
       "        </tr>\n",
       "        <tr>\n",
       "            <td>Inglourious Basterds</td>\n",
       "            <td>Action</td>\n",
       "            <td>Deutsch</td>\n",
       "            <td>72.595961</td>\n",
       "        </tr>\n",
       "        <tr>\n",
       "            <td>Raiders of the Lost Ark</td>\n",
       "            <td>Action</td>\n",
       "            <td>Deutsch</td>\n",
       "            <td>68.159596</td>\n",
       "        </tr>\n",
       "        <tr>\n",
       "            <td>Die Hard</td>\n",
       "            <td>Action</td>\n",
       "            <td>Deutsch</td>\n",
       "            <td>66.169628</td>\n",
       "        </tr>\n",
       "        <tr>\n",
       "            <td>Mission: Impossible III</td>\n",
       "            <td>Action</td>\n",
       "            <td>Deutsch</td>\n",
       "            <td>63.079003</td>\n",
       "        </tr>\n",
       "        <tr>\n",
       "            <td>Superman Returns</td>\n",
       "            <td>Action</td>\n",
       "            <td>Deutsch</td>\n",
       "            <td>57.925623</td>\n",
       "        </tr>\n",
       "        <tr>\n",
       "            <td>Die Another Day</td>\n",
       "            <td>Action</td>\n",
       "            <td>Deutsch</td>\n",
       "            <td>54.159392</td>\n",
       "        </tr>\n",
       "        <tr>\n",
       "            <td>The Bourne Supremacy</td>\n",
       "            <td>Action</td>\n",
       "            <td>Deutsch</td>\n",
       "            <td>53.213931</td>\n",
       "        </tr>\n",
       "        <tr>\n",
       "            <td>Die Hard: With a Vengeance</td>\n",
       "            <td>Action</td>\n",
       "            <td>Deutsch</td>\n",
       "            <td>51.881077</td>\n",
       "        </tr>\n",
       "        <tr>\n",
       "            <td>The Man from U.N.C.L.E.</td>\n",
       "            <td>Action</td>\n",
       "            <td>Deutsch</td>\n",
       "            <td>48.744209</td>\n",
       "        </tr>\n",
       "        <tr>\n",
       "            <td>The League of Extraordinary Gentlemen</td>\n",
       "            <td>Action</td>\n",
       "            <td>Deutsch</td>\n",
       "            <td>47.436675</td>\n",
       "        </tr>\n",
       "        <tr>\n",
       "            <td>xXx</td>\n",
       "            <td>Action</td>\n",
       "            <td>Deutsch</td>\n",
       "            <td>46.217769</td>\n",
       "        </tr>\n",
       "        <tr>\n",
       "            <td>Knight and Day</td>\n",
       "            <td>Action</td>\n",
       "            <td>Deutsch</td>\n",
       "            <td>44.906918</td>\n",
       "        </tr>\n",
       "        <tr>\n",
       "            <td>Waterworld</td>\n",
       "            <td>Action</td>\n",
       "            <td>Deutsch</td>\n",
       "            <td>44.640292</td>\n",
       "        </tr>\n",
       "        <tr>\n",
       "            <td>Escape Plan</td>\n",
       "            <td>Action</td>\n",
       "            <td>Deutsch</td>\n",
       "            <td>44.478043</td>\n",
       "        </tr>\n",
       "        <tr>\n",
       "            <td>The Monuments Men</td>\n",
       "            <td>Action</td>\n",
       "            <td>Deutsch</td>\n",
       "            <td>43.873266</td>\n",
       "        </tr>\n",
       "        <tr>\n",
       "            <td>Tomorrow Never Dies</td>\n",
       "            <td>Action</td>\n",
       "            <td>Deutsch</td>\n",
       "            <td>42.887121</td>\n",
       "        </tr>\n",
       "        <tr>\n",
       "            <td>Charlie&#x27;s Angels</td>\n",
       "            <td>Action</td>\n",
       "            <td>Deutsch</td>\n",
       "            <td>40.20395</td>\n",
       "        </tr>\n",
       "        <tr>\n",
       "            <td>The Brothers Grimm</td>\n",
       "            <td>Action</td>\n",
       "            <td>Deutsch</td>\n",
       "            <td>40.138009</td>\n",
       "        </tr>\n",
       "        <tr>\n",
       "            <td>Sucker Punch</td>\n",
       "            <td>Action</td>\n",
       "            <td>Deutsch</td>\n",
       "            <td>39.127082</td>\n",
       "        </tr>\n",
       "        <tr>\n",
       "            <td>True Lies</td>\n",
       "            <td>Action</td>\n",
       "            <td>Deutsch</td>\n",
       "            <td>38.729418</td>\n",
       "        </tr>\n",
       "        <tr>\n",
       "            <td>Unknown</td>\n",
       "            <td>Action</td>\n",
       "            <td>Deutsch</td>\n",
       "            <td>38.643914</td>\n",
       "        </tr>\n",
       "        <tr>\n",
       "            <td>Swordfish</td>\n",
       "            <td>Action</td>\n",
       "            <td>Deutsch</td>\n",
       "            <td>36.788745</td>\n",
       "        </tr>\n",
       "        <tr>\n",
       "            <td>Johnny English Reborn</td>\n",
       "            <td>Action</td>\n",
       "            <td>Deutsch</td>\n",
       "            <td>35.6585</td>\n",
       "        </tr>\n",
       "        <tr>\n",
       "            <td>Diamonds Are Forever</td>\n",
       "            <td>Action</td>\n",
       "            <td>Deutsch</td>\n",
       "            <td>34.634181</td>\n",
       "        </tr>\n",
       "        <tr>\n",
       "            <td>Rush</td>\n",
       "            <td>Action</td>\n",
       "            <td>Deutsch</td>\n",
       "            <td>33.003828</td>\n",
       "        </tr>\n",
       "        <tr>\n",
       "            <td>Hanna</td>\n",
       "            <td>Action</td>\n",
       "            <td>Deutsch</td>\n",
       "            <td>31.191975</td>\n",
       "        </tr>\n",
       "        <tr>\n",
       "            <td>Munich</td>\n",
       "            <td>Action</td>\n",
       "            <td>Deutsch</td>\n",
       "            <td>29.035222</td>\n",
       "        </tr>\n",
       "        <tr>\n",
       "            <td>Pandorum</td>\n",
       "            <td>Action</td>\n",
       "            <td>Deutsch</td>\n",
       "            <td>28.353517</td>\n",
       "        </tr>\n",
       "        <tr>\n",
       "            <td>From Paris with Love</td>\n",
       "            <td>Action</td>\n",
       "            <td>Deutsch</td>\n",
       "            <td>27.916284</td>\n",
       "        </tr>\n",
       "        <tr>\n",
       "            <td>Run Lola Run</td>\n",
       "            <td>Action</td>\n",
       "            <td>Deutsch</td>\n",
       "            <td>27.36562</td>\n",
       "        </tr>\n",
       "        <tr>\n",
       "            <td>Spy Game</td>\n",
       "            <td>Action</td>\n",
       "            <td>Deutsch</td>\n",
       "            <td>27.166757</td>\n",
       "        </tr>\n",
       "        <tr>\n",
       "            <td>Das Boot</td>\n",
       "            <td>Action</td>\n",
       "            <td>Deutsch</td>\n",
       "            <td>26.967494</td>\n",
       "        </tr>\n",
       "        <tr>\n",
       "            <td>Unleashed</td>\n",
       "            <td>Action</td>\n",
       "            <td>Deutsch</td>\n",
       "            <td>25.999888</td>\n",
       "        </tr>\n",
       "        <tr>\n",
       "            <td>Octopussy</td>\n",
       "            <td>Action</td>\n",
       "            <td>Deutsch</td>\n",
       "            <td>25.633663</td>\n",
       "        </tr>\n",
       "        <tr>\n",
       "            <td>On Her Majesty&#x27;s Secret Service</td>\n",
       "            <td>Action</td>\n",
       "            <td>Deutsch</td>\n",
       "            <td>25.289665</td>\n",
       "        </tr>\n",
       "        <tr>\n",
       "            <td>30 Minutes or Less</td>\n",
       "            <td>Action</td>\n",
       "            <td>Deutsch</td>\n",
       "            <td>25.039383</td>\n",
       "        </tr>\n",
       "        <tr>\n",
       "            <td>Sky Captain and the World of Tomorrow</td>\n",
       "            <td>Action</td>\n",
       "            <td>Deutsch</td>\n",
       "            <td>24.664776</td>\n",
       "        </tr>\n",
       "        <tr>\n",
       "            <td>The Living Daylights</td>\n",
       "            <td>Action</td>\n",
       "            <td>Deutsch</td>\n",
       "            <td>23.331459</td>\n",
       "        </tr>\n",
       "        <tr>\n",
       "            <td>Around the World in 80 Days</td>\n",
       "            <td>Action</td>\n",
       "            <td>Deutsch</td>\n",
       "            <td>22.643776</td>\n",
       "        </tr>\n",
       "        <tr>\n",
       "            <td>The Sum of All Fears</td>\n",
       "            <td>Action</td>\n",
       "            <td>Deutsch</td>\n",
       "            <td>22.392544</td>\n",
       "        </tr>\n",
       "        <tr>\n",
       "            <td>Free State of Jones</td>\n",
       "            <td>Action</td>\n",
       "            <td>Deutsch</td>\n",
       "            <td>21.589393</td>\n",
       "        </tr>\n",
       "        <tr>\n",
       "            <td>Baby&#x27;s Day Out</td>\n",
       "            <td>Action</td>\n",
       "            <td>Deutsch</td>\n",
       "            <td>21.312186</td>\n",
       "        </tr>\n",
       "        <tr>\n",
       "            <td>Volcano</td>\n",
       "            <td>Action</td>\n",
       "            <td>Deutsch</td>\n",
       "            <td>19.836124</td>\n",
       "        </tr>\n",
       "        <tr>\n",
       "            <td>Shaft</td>\n",
       "            <td>Action</td>\n",
       "            <td>Deutsch</td>\n",
       "            <td>19.643365</td>\n",
       "        </tr>\n",
       "        <tr>\n",
       "            <td>The Longest Day</td>\n",
       "            <td>Action</td>\n",
       "            <td>Deutsch</td>\n",
       "            <td>19.524972</td>\n",
       "        </tr>\n",
       "        <tr>\n",
       "            <td>Six Days Seven Nights</td>\n",
       "            <td>Action</td>\n",
       "            <td>Deutsch</td>\n",
       "            <td>18.264635</td>\n",
       "        </tr>\n",
       "        <tr>\n",
       "            <td>U-571</td>\n",
       "            <td>Action</td>\n",
       "            <td>Deutsch</td>\n",
       "            <td>18.096884</td>\n",
       "        </tr>\n",
       "        <tr>\n",
       "            <td>Stealth</td>\n",
       "            <td>Action</td>\n",
       "            <td>Deutsch</td>\n",
       "            <td>17.88953</td>\n",
       "        </tr>\n",
       "        <tr>\n",
       "            <td>United 93</td>\n",
       "            <td>Action</td>\n",
       "            <td>Deutsch</td>\n",
       "            <td>17.50138</td>\n",
       "        </tr>\n",
       "        <tr>\n",
       "            <td>Armored</td>\n",
       "            <td>Action</td>\n",
       "            <td>Deutsch</td>\n",
       "            <td>15.21229</td>\n",
       "        </tr>\n",
       "        <tr>\n",
       "            <td>Bulletproof Monk</td>\n",
       "            <td>Action</td>\n",
       "            <td>Deutsch</td>\n",
       "            <td>15.20707</td>\n",
       "        </tr>\n",
       "        <tr>\n",
       "            <td>Alex Cross</td>\n",
       "            <td>Action</td>\n",
       "            <td>Deutsch</td>\n",
       "            <td>14.513243</td>\n",
       "        </tr>\n",
       "        <tr>\n",
       "            <td>Night Watch</td>\n",
       "            <td>Action</td>\n",
       "            <td>Deutsch</td>\n",
       "            <td>12.540624</td>\n",
       "        </tr>\n",
       "        <tr>\n",
       "            <td>Red Tails</td>\n",
       "            <td>Action</td>\n",
       "            <td>Deutsch</td>\n",
       "            <td>12.29603</td>\n",
       "        </tr>\n",
       "        <tr>\n",
       "            <td>White Squall</td>\n",
       "            <td>Action</td>\n",
       "            <td>Deutsch</td>\n",
       "            <td>10.047579</td>\n",
       "        </tr>\n",
       "        <tr>\n",
       "            <td>1941</td>\n",
       "            <td>Action</td>\n",
       "            <td>Deutsch</td>\n",
       "            <td>10.032626</td>\n",
       "        </tr>\n",
       "        <tr>\n",
       "            <td>Shin Godzilla</td>\n",
       "            <td>Action</td>\n",
       "            <td>Deutsch</td>\n",
       "            <td>9.476999</td>\n",
       "        </tr>\n",
       "        <tr>\n",
       "            <td>Rollerball</td>\n",
       "            <td>Action</td>\n",
       "            <td>Deutsch</td>\n",
       "            <td>9.306253</td>\n",
       "        </tr>\n",
       "        <tr>\n",
       "            <td>Sorcerer</td>\n",
       "            <td>Action</td>\n",
       "            <td>Deutsch</td>\n",
       "            <td>9.088209</td>\n",
       "        </tr>\n",
       "        <tr>\n",
       "            <td>The Greatest Show on Earth</td>\n",
       "            <td>Action</td>\n",
       "            <td>Deutsch</td>\n",
       "            <td>8.988455</td>\n",
       "        </tr>\n",
       "        <tr>\n",
       "            <td>Narc</td>\n",
       "            <td>Action</td>\n",
       "            <td>Deutsch</td>\n",
       "            <td>8.526635</td>\n",
       "        </tr>\n",
       "        <tr>\n",
       "            <td>Hell&#x27;s Angels</td>\n",
       "            <td>Action</td>\n",
       "            <td>Deutsch</td>\n",
       "            <td>8.484123</td>\n",
       "        </tr>\n",
       "        <tr>\n",
       "            <td>Driven</td>\n",
       "            <td>Action</td>\n",
       "            <td>Deutsch</td>\n",
       "            <td>8.468586</td>\n",
       "        </tr>\n",
       "        <tr>\n",
       "            <td>The Baader Meinhof Complex</td>\n",
       "            <td>Action</td>\n",
       "            <td>Deutsch</td>\n",
       "            <td>7.727035</td>\n",
       "        </tr>\n",
       "        <tr>\n",
       "            <td>Saints and Soldiers</td>\n",
       "            <td>Action</td>\n",
       "            <td>Deutsch</td>\n",
       "            <td>6.003418</td>\n",
       "        </tr>\n",
       "        <tr>\n",
       "            <td>Heaven&#x27;s Gate</td>\n",
       "            <td>Action</td>\n",
       "            <td>Deutsch</td>\n",
       "            <td>5.380124</td>\n",
       "        </tr>\n",
       "        <tr>\n",
       "            <td>The Train</td>\n",
       "            <td>Action</td>\n",
       "            <td>Deutsch</td>\n",
       "            <td>4.49029</td>\n",
       "        </tr>\n",
       "        <tr>\n",
       "            <td>The Promise</td>\n",
       "            <td>Action</td>\n",
       "            <td>Deutsch</td>\n",
       "            <td>3.866026</td>\n",
       "        </tr>\n",
       "        <tr>\n",
       "            <td>X-Men: First Class</td>\n",
       "            <td>Action</td>\n",
       "            <td>Deutsch</td>\n",
       "            <td>3.195174</td>\n",
       "        </tr>\n",
       "        <tr>\n",
       "            <td>X2</td>\n",
       "            <td>Action</td>\n",
       "            <td>Deutsch</td>\n",
       "            <td>2.871739</td>\n",
       "        </tr>\n",
       "        <tr>\n",
       "            <td>The Adventures of Huck Finn</td>\n",
       "            <td>Action</td>\n",
       "            <td>Deutsch</td>\n",
       "            <td>2.163683</td>\n",
       "        </tr>\n",
       "        <tr>\n",
       "            <td>Code of Honor</td>\n",
       "            <td>Action</td>\n",
       "            <td>Deutsch</td>\n",
       "            <td>2.101718</td>\n",
       "        </tr>\n",
       "        <tr>\n",
       "            <td>Independence Daysaster</td>\n",
       "            <td>Action</td>\n",
       "            <td>Deutsch</td>\n",
       "            <td>1.959405</td>\n",
       "        </tr>\n",
       "        <tr>\n",
       "            <td>All The Queen&#x27;s Men</td>\n",
       "            <td>Action</td>\n",
       "            <td>Deutsch</td>\n",
       "            <td>1.833058</td>\n",
       "        </tr>\n",
       "        <tr>\n",
       "            <td>Legend of a Rabbit</td>\n",
       "            <td>Action</td>\n",
       "            <td>Deutsch</td>\n",
       "            <td>0.738652</td>\n",
       "        </tr>\n",
       "        <tr>\n",
       "            <td>Rockaway</td>\n",
       "            <td>Action</td>\n",
       "            <td>Deutsch</td>\n",
       "            <td>0.361554</td>\n",
       "        </tr>\n",
       "    </tbody>\n",
       "</table>"
      ],
      "text/plain": [
       "[('Captain America: Civil War', 'Action', 'Deutsch', 198.372395),\n",
       " ('Mission: Impossible - Rogue Nation', 'Action', 'Deutsch', 114.522237),\n",
       " ('The Fifth Element', 'Action', 'Deutsch', 109.528572),\n",
       " ('Quantum of Solace', 'Action', 'Deutsch', 107.928811),\n",
       " ('Spectre', 'Action', 'Deutsch', 107.376788),\n",
       " ('The Bourne Identity', 'Action', 'Deutsch', 86.476817),\n",
       " ('Non-Stop', 'Action', 'Deutsch', 83.295796),\n",
       " ('Indiana Jones and the Last Crusade', 'Action', 'Deutsch', 80.972475),\n",
       " ('Indiana Jones and the Kingdom of the Crystal Skull', 'Action', 'Deutsch', 75.674458),\n",
       " ('Inglourious Basterds', 'Action', 'Deutsch', 72.595961),\n",
       " ('Raiders of the Lost Ark', 'Action', 'Deutsch', 68.159596),\n",
       " ('Die Hard', 'Action', 'Deutsch', 66.169628),\n",
       " ('Mission: Impossible III', 'Action', 'Deutsch', 63.079003),\n",
       " ('Superman Returns', 'Action', 'Deutsch', 57.925623),\n",
       " ('Die Another Day', 'Action', 'Deutsch', 54.159392),\n",
       " ('The Bourne Supremacy', 'Action', 'Deutsch', 53.213931),\n",
       " ('Die Hard: With a Vengeance', 'Action', 'Deutsch', 51.881077),\n",
       " ('The Man from U.N.C.L.E.', 'Action', 'Deutsch', 48.744209),\n",
       " ('The League of Extraordinary Gentlemen', 'Action', 'Deutsch', 47.436675),\n",
       " ('xXx', 'Action', 'Deutsch', 46.217769),\n",
       " ('Knight and Day', 'Action', 'Deutsch', 44.906918),\n",
       " ('Waterworld', 'Action', 'Deutsch', 44.640292),\n",
       " ('Escape Plan', 'Action', 'Deutsch', 44.478043),\n",
       " ('The Monuments Men', 'Action', 'Deutsch', 43.873266),\n",
       " ('Tomorrow Never Dies', 'Action', 'Deutsch', 42.887121),\n",
       " (\"Charlie's Angels\", 'Action', 'Deutsch', 40.20395),\n",
       " ('The Brothers Grimm', 'Action', 'Deutsch', 40.138009),\n",
       " ('Sucker Punch', 'Action', 'Deutsch', 39.127082),\n",
       " ('True Lies', 'Action', 'Deutsch', 38.729418),\n",
       " ('Unknown', 'Action', 'Deutsch', 38.643914),\n",
       " ('Swordfish', 'Action', 'Deutsch', 36.788745),\n",
       " ('Johnny English Reborn', 'Action', 'Deutsch', 35.6585),\n",
       " ('Diamonds Are Forever', 'Action', 'Deutsch', 34.634181),\n",
       " ('Rush', 'Action', 'Deutsch', 33.003828),\n",
       " ('Hanna', 'Action', 'Deutsch', 31.191975),\n",
       " ('Munich', 'Action', 'Deutsch', 29.035222),\n",
       " ('Pandorum', 'Action', 'Deutsch', 28.353517),\n",
       " ('From Paris with Love', 'Action', 'Deutsch', 27.916284),\n",
       " ('Run Lola Run', 'Action', 'Deutsch', 27.36562),\n",
       " ('Spy Game', 'Action', 'Deutsch', 27.166757),\n",
       " ('Das Boot', 'Action', 'Deutsch', 26.967494),\n",
       " ('Unleashed', 'Action', 'Deutsch', 25.999888),\n",
       " ('Octopussy', 'Action', 'Deutsch', 25.633663),\n",
       " (\"On Her Majesty's Secret Service\", 'Action', 'Deutsch', 25.289665),\n",
       " ('30 Minutes or Less', 'Action', 'Deutsch', 25.039383),\n",
       " ('Sky Captain and the World of Tomorrow', 'Action', 'Deutsch', 24.664776),\n",
       " ('The Living Daylights', 'Action', 'Deutsch', 23.331459),\n",
       " ('Around the World in 80 Days', 'Action', 'Deutsch', 22.643776),\n",
       " ('The Sum of All Fears', 'Action', 'Deutsch', 22.392544),\n",
       " ('Free State of Jones', 'Action', 'Deutsch', 21.589393),\n",
       " (\"Baby's Day Out\", 'Action', 'Deutsch', 21.312186),\n",
       " ('Volcano', 'Action', 'Deutsch', 19.836124),\n",
       " ('Shaft', 'Action', 'Deutsch', 19.643365),\n",
       " ('The Longest Day', 'Action', 'Deutsch', 19.524972),\n",
       " ('Six Days Seven Nights', 'Action', 'Deutsch', 18.264635),\n",
       " ('U-571', 'Action', 'Deutsch', 18.096884),\n",
       " ('Stealth', 'Action', 'Deutsch', 17.88953),\n",
       " ('United 93', 'Action', 'Deutsch', 17.50138),\n",
       " ('Armored', 'Action', 'Deutsch', 15.21229),\n",
       " ('Bulletproof Monk', 'Action', 'Deutsch', 15.20707),\n",
       " ('Alex Cross', 'Action', 'Deutsch', 14.513243),\n",
       " ('Night Watch', 'Action', 'Deutsch', 12.540624),\n",
       " ('Red Tails', 'Action', 'Deutsch', 12.29603),\n",
       " ('White Squall', 'Action', 'Deutsch', 10.047579),\n",
       " ('1941', 'Action', 'Deutsch', 10.032626),\n",
       " ('Shin Godzilla', 'Action', 'Deutsch', 9.476999),\n",
       " ('Rollerball', 'Action', 'Deutsch', 9.306253),\n",
       " ('Sorcerer', 'Action', 'Deutsch', 9.088209),\n",
       " ('The Greatest Show on Earth', 'Action', 'Deutsch', 8.988455),\n",
       " ('Narc', 'Action', 'Deutsch', 8.526635),\n",
       " (\"Hell's Angels\", 'Action', 'Deutsch', 8.484123),\n",
       " ('Driven', 'Action', 'Deutsch', 8.468586),\n",
       " ('The Baader Meinhof Complex', 'Action', 'Deutsch', 7.727035),\n",
       " ('Saints and Soldiers', 'Action', 'Deutsch', 6.003418),\n",
       " (\"Heaven's Gate\", 'Action', 'Deutsch', 5.380124),\n",
       " ('The Train', 'Action', 'Deutsch', 4.49029),\n",
       " ('The Promise', 'Action', 'Deutsch', 3.866026),\n",
       " ('X-Men: First Class', 'Action', 'Deutsch', 3.195174),\n",
       " ('X2', 'Action', 'Deutsch', 2.871739),\n",
       " ('The Adventures of Huck Finn', 'Action', 'Deutsch', 2.163683),\n",
       " ('Code of Honor', 'Action', 'Deutsch', 2.101718),\n",
       " ('Independence Daysaster', 'Action', 'Deutsch', 1.959405),\n",
       " (\"All The Queen's Men\", 'Action', 'Deutsch', 1.833058),\n",
       " ('Legend of a Rabbit', 'Action', 'Deutsch', 0.738652),\n",
       " ('Rockaway', 'Action', 'Deutsch', 0.361554)]"
      ]
     },
     "execution_count": 22,
     "metadata": {},
     "output_type": "execute_result"
    }
   ],
   "source": [
    "%%sql \n",
    "SELECT m.title, g2.genre_name, l2.language_name, m.popularity\n",
    "FROM movies m\n",
    "INNER JOIN genremap g1\n",
    "ON m.movie_id = g1.movie_id\n",
    "INNER JOIN genres g2\n",
    "ON g1.genre_id = g2.genre_id\n",
    "INNER JOIN languagemap l1\n",
    "ON m.movie_id = l1.movie_id\n",
    "INNER JOIN languages l2\n",
    "ON l1.iso_639_1 = l2.iso_639_1\n",
    "WHERE g2.genre_name = 'Action' AND l2.language_name = 'Deutsch'\n",
    "ORDER BY m.popularity DESC\n"
   ]
  },
  {
   "cell_type": "markdown",
   "metadata": {},
   "source": [
    "**Question 5**\n",
    "\n",
    "In how many movies did Tom Cruise portray the character Ethan Hunt? (Hint: Characters are listed in the Casts table.)\n",
    "\n",
    "**Options:**\n",
    " - 4\n",
    " - 3\n",
    " - 6\n",
    " - 5"
   ]
  },
  {
   "cell_type": "markdown",
   "metadata": {},
   "source": [
    "**Solution**"
   ]
  },
  {
   "cell_type": "code",
   "execution_count": 25,
   "metadata": {},
   "outputs": [
    {
     "name": "stdout",
     "output_type": "stream",
     "text": [
      " * sqlite:///TMDB.db\n",
      "Done.\n"
     ]
    },
    {
     "data": {
      "text/html": [
       "<table>\n",
       "    <thead>\n",
       "        <tr>\n",
       "            <th>COUNT(m.movie_id)</th>\n",
       "        </tr>\n",
       "    </thead>\n",
       "    <tbody>\n",
       "        <tr>\n",
       "            <td>5</td>\n",
       "        </tr>\n",
       "    </tbody>\n",
       "</table>"
      ],
      "text/plain": [
       "[(5,)]"
      ]
     },
     "execution_count": 25,
     "metadata": {},
     "output_type": "execute_result"
    }
   ],
   "source": [
    "%%sql \n",
    "SELECT COUNT(m.movie_id)\n",
    "FROM movies m\n",
    "INNER JOIN casts c\n",
    "ON m.movie_id = c.movie_id\n",
    "INNER JOIN actors a\n",
    "ON c.actor_id = a.actor_id\n",
    "WHERE a.actor_name = 'Tom Cruise' AND c.characters = 'Ethan Hunt'\n"
   ]
  },
  {
   "cell_type": "markdown",
   "metadata": {},
   "source": [
    "**Question 6**\n",
    "\n",
    "How many times was the actress Cate Blanchett nominated for an Oscar?\n",
    " \n",
    " **Options:**\n",
    " - 7\n",
    " - 4\n",
    " - 5\n",
    " - 2"
   ]
  },
  {
   "cell_type": "markdown",
   "metadata": {},
   "source": [
    "**Solution**"
   ]
  },
  {
   "cell_type": "code",
   "execution_count": 30,
   "metadata": {},
   "outputs": [
    {
     "name": "stdout",
     "output_type": "stream",
     "text": [
      " * sqlite:///TMDB.db\n",
      "Done.\n"
     ]
    },
    {
     "data": {
      "text/html": [
       "<table>\n",
       "    <thead>\n",
       "        <tr>\n",
       "            <th>COUNT(*)</th>\n",
       "        </tr>\n",
       "    </thead>\n",
       "    <tbody>\n",
       "        <tr>\n",
       "            <td>7</td>\n",
       "        </tr>\n",
       "    </tbody>\n",
       "</table>"
      ],
      "text/plain": [
       "[(7,)]"
      ]
     },
     "execution_count": 30,
     "metadata": {},
     "output_type": "execute_result"
    }
   ],
   "source": [
    "%%sql \n",
    "SELECT COUNT(*)\n",
    "FROM oscars\n",
    "WHERE name = 'Cate Blanchett';\n"
   ]
  },
  {
   "cell_type": "markdown",
   "metadata": {},
   "source": [
    "**Question 7**\n",
    "\n",
    "How many movies were nominated for the Best Picture award at the Oscars?\n",
    " \n",
    "**Options:**\n",
    "\n",
    " - 12\n",
    " - 16\n",
    " - 8\n",
    " - 18"
   ]
  },
  {
   "cell_type": "markdown",
   "metadata": {},
   "source": [
    "**Solution**"
   ]
  },
  {
   "cell_type": "code",
   "execution_count": 36,
   "metadata": {},
   "outputs": [
    {
     "name": "stdout",
     "output_type": "stream",
     "text": [
      " * sqlite:///TMDB.db\n",
      "Done.\n"
     ]
    },
    {
     "data": {
      "text/html": [
       "<table>\n",
       "    <thead>\n",
       "        <tr>\n",
       "            <th>COUNT(*)</th>\n",
       "        </tr>\n",
       "    </thead>\n",
       "    <tbody>\n",
       "        <tr>\n",
       "            <td>8</td>\n",
       "        </tr>\n",
       "    </tbody>\n",
       "</table>"
      ],
      "text/plain": [
       "[(8,)]"
      ]
     },
     "execution_count": 36,
     "metadata": {},
     "output_type": "execute_result"
    }
   ],
   "source": [
    "%%sql \n",
    "SELECT COUNT(*)\n",
    "FROM oscars\n",
    "WHERE award = 'Best Picture' AND year = 2015;\n"
   ]
  },
  {
   "cell_type": "markdown",
   "metadata": {},
   "source": [
    "**Question 8** \n",
    "\n",
    "How many movies contain at least one of the languages, Afrikaans or Zulu?\n",
    "\n",
    "**Options:**\n",
    " - 10\n",
    " - 8\n",
    " - 12\n",
    " - 15"
   ]
  },
  {
   "cell_type": "markdown",
   "metadata": {},
   "source": [
    "**Solution**"
   ]
  },
  {
   "cell_type": "code",
   "execution_count": 79,
   "metadata": {},
   "outputs": [
    {
     "name": "stdout",
     "output_type": "stream",
     "text": [
      " * sqlite:///TMDB.db\n",
      "Done.\n"
     ]
    },
    {
     "data": {
      "text/html": [
       "<table>\n",
       "    <thead>\n",
       "        <tr>\n",
       "            <th>COUNT(*)</th>\n",
       "        </tr>\n",
       "    </thead>\n",
       "    <tbody>\n",
       "        <tr>\n",
       "            <td>8</td>\n",
       "        </tr>\n",
       "    </tbody>\n",
       "</table>"
      ],
      "text/plain": [
       "[(8,)]"
      ]
     },
     "execution_count": 79,
     "metadata": {},
     "output_type": "execute_result"
    }
   ],
   "source": [
    "%%sql \n",
    "SELECT COUNT(*)\n",
    "FROM movies\n",
    "WHERE movie_id IN (\n",
    "    SELECT m.movie_id\n",
    "    FROM movies m\n",
    "    INNER JOIN languagemap l1 ON m.movie_id = l1.movie_id\n",
    "    INNER JOIN languages l2 ON l1.iso_639_1 = l2.iso_639_1\n",
    "    WHERE l2.language_name = 'Afrikaans'\n",
    ")\n",
    "OR movie_id IN (\n",
    "    SELECT m.movie_id\n",
    "    FROM movies m\n",
    "    INNER JOIN languagemap l1 ON m.movie_id = l1.movie_id\n",
    "    INNER JOIN languages l2 ON l1.iso_639_1 = l2.iso_639_1\n",
    "    WHERE l2.language_name = 'isiZulu'\n",
    ");\n"
   ]
  },
  {
   "cell_type": "markdown",
   "metadata": {},
   "source": [
    "**Question 9**\n",
    "\n",
    "In which country was the movie “Star Wars” produced?  \n",
    "\n",
    "**Options:**\n",
    " - Canada\n",
    " - United Kingdom\n",
    " - France\n",
    " - United States of America"
   ]
  },
  {
   "cell_type": "markdown",
   "metadata": {},
   "source": [
    "**Solution**"
   ]
  },
  {
   "cell_type": "code",
   "execution_count": 59,
   "metadata": {},
   "outputs": [
    {
     "name": "stdout",
     "output_type": "stream",
     "text": [
      " * sqlite:///TMDB.db\n",
      "Done.\n"
     ]
    },
    {
     "data": {
      "text/html": [
       "<table>\n",
       "    <thead>\n",
       "        <tr>\n",
       "            <th>title</th>\n",
       "            <th>production_country_name</th>\n",
       "        </tr>\n",
       "    </thead>\n",
       "    <tbody>\n",
       "        <tr>\n",
       "            <td>Star Wars</td>\n",
       "            <td>United States of America</td>\n",
       "        </tr>\n",
       "    </tbody>\n",
       "</table>"
      ],
      "text/plain": [
       "[('Star Wars', 'United States of America')]"
      ]
     },
     "execution_count": 59,
     "metadata": {},
     "output_type": "execute_result"
    }
   ],
   "source": [
    "%%sql \n",
    "SELECT m.title, production_country_name\n",
    "FROM movies m\n",
    "INNER JOIN productioncountrymap p1\n",
    "ON m.movie_id = p1.movie_id\n",
    "INNER JOIN productioncountries p2\n",
    "ON p1.iso_3166_1 = p2.iso_3166_1\n",
    "WHERE m.title = 'Star Wars'\n"
   ]
  },
  {
   "cell_type": "markdown",
   "metadata": {},
   "source": [
    "**Question 10**\n",
    "\n",
    "How many movies are in the database that are both a Romance and a Comedy?\n",
    "\n",
    "**Options:**\n",
    "\n",
    " - 373\n",
    " - 484\n",
    " - 262\n",
    " - 595"
   ]
  },
  {
   "cell_type": "markdown",
   "metadata": {},
   "source": [
    "**Solution**"
   ]
  },
  {
   "cell_type": "code",
   "execution_count": 77,
   "metadata": {},
   "outputs": [
    {
     "name": "stdout",
     "output_type": "stream",
     "text": [
      " * sqlite:///TMDB.db\n",
      "Done.\n"
     ]
    },
    {
     "data": {
      "text/html": [
       "<table>\n",
       "    <thead>\n",
       "        <tr>\n",
       "            <th>COUNT(*)</th>\n",
       "        </tr>\n",
       "    </thead>\n",
       "    <tbody>\n",
       "        <tr>\n",
       "            <td>484</td>\n",
       "        </tr>\n",
       "    </tbody>\n",
       "</table>"
      ],
      "text/plain": [
       "[(484,)]"
      ]
     },
     "execution_count": 77,
     "metadata": {},
     "output_type": "execute_result"
    }
   ],
   "source": [
    "%%sql \n",
    "SELECT COUNT(*)\n",
    "FROM movies\n",
    "WHERE movie_id IN (\n",
    "    SELECT m.movie_id\n",
    "    FROM movies m\n",
    "    INNER JOIN genremap g1 ON m.movie_id = g1.movie_id\n",
    "    INNER JOIN genres g2 ON g1.genre_id = g2.genre_id\n",
    "    WHERE g2.genre_name = 'Romance'\n",
    ")\n",
    "AND movie_id IN (\n",
    "    SELECT m.movie_id\n",
    "    FROM movies m\n",
    "    INNER JOIN genremap g1 ON m.movie_id = g1.movie_id\n",
    "    INNER JOIN genres g2 ON g1.genre_id = g2.genre_id\n",
    "    WHERE g2.genre_name = 'Comedy'\n",
    ");"
   ]
  }
 ],
 "metadata": {
  "kernelspec": {
   "display_name": "Python 3 (ipykernel)",
   "language": "python",
   "name": "python3"
  },
  "language_info": {
   "codemirror_mode": {
    "name": "ipython",
    "version": 3
   },
   "file_extension": ".py",
   "mimetype": "text/x-python",
   "name": "python",
   "nbconvert_exporter": "python",
   "pygments_lexer": "ipython3",
   "version": "3.11.3"
  }
 },
 "nbformat": 4,
 "nbformat_minor": 2
}
